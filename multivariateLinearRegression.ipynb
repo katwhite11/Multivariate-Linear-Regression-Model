{
  "nbformat": 4,
  "nbformat_minor": 0,
  "metadata": {
    "colab": {
      "provenance": []
    },
    "kernelspec": {
      "name": "python3",
      "display_name": "Python 3"
    },
    "language_info": {
      "name": "python"
    }
  },
  "cells": [
    {
      "cell_type": "markdown",
      "source": [
        "#### Import Statements"
      ],
      "metadata": {
        "id": "84lka7jYq9-u"
      }
    },
    {
      "cell_type": "code",
      "execution_count": null,
      "metadata": {
        "id": "v7tZxfL2qd7x"
      },
      "outputs": [],
      "source": [
        "from sklearn import datasets\n",
        "from sklearn.datasets import load_diabetes\n",
        "from sklearn.linear_model import LinearRegression\n",
        "from sklearn.metrics import mean_absolute_error as mae\n",
        "from sklearn.metrics import mean_squared_error as mse\n",
        "import sklearn.metrics as sm\n",
        "import numpy as np\n",
        "import matplotlib.pyplot as plt\n",
        "import operator"
      ]
    },
    {
      "cell_type": "markdown",
      "source": [
        "Load Data"
      ],
      "metadata": {
        "id": "uKo4pGW4rB_v"
      }
    },
    {
      "cell_type": "code",
      "source": [
        "# Load dataset\n",
        "diab = load_diabetes()\n",
        "x = diab.data\n",
        "y = diab.target\n",
        "\n",
        "y = np.expand_dims(y,1)"
      ],
      "metadata": {
        "id": "JMoSOAEHrFpl"
      },
      "execution_count": null,
      "outputs": []
    },
    {
      "cell_type": "markdown",
      "source": [
        "#### Display Feature Names"
      ],
      "metadata": {
        "id": "4aqo0l1DpaRx"
      }
    },
    {
      "cell_type": "code",
      "source": [
        "print(diab.feature_names)"
      ],
      "metadata": {
        "colab": {
          "base_uri": "https://localhost:8080/"
        },
        "id": "n4gNsMx_-mFT",
        "outputId": "e68167ea-6814-4db6-8e3e-44230db0c79d"
      },
      "execution_count": null,
      "outputs": [
        {
          "output_type": "stream",
          "name": "stdout",
          "text": [
            "['age', 'sex', 'bmi', 'bp', 's1', 's2', 's3', 's4', 's5', 's6']\n"
          ]
        }
      ]
    },
    {
      "cell_type": "markdown",
      "source": [
        "#### Shuffle Dataset"
      ],
      "metadata": {
        "id": "8HYUcMSpsREr"
      }
    },
    {
      "cell_type": "code",
      "source": [
        "# Create new dataset, target appended in last column\n",
        "data = np.append(x, y, 1)\n",
        "\n",
        "# Shuffle dataset\n",
        "np.random.shuffle(data)"
      ],
      "metadata": {
        "id": "XGlmgwiVysd1"
      },
      "execution_count": null,
      "outputs": []
    },
    {
      "cell_type": "markdown",
      "source": [
        "#### Train Dataset"
      ],
      "metadata": {
        "id": "iD50Fp5xsjbm"
      }
    },
    {
      "cell_type": "code",
      "source": [
        "# Number of samples\n",
        "total_sample = len(data)\n",
        "\n",
        "# Train/Dev/Test Splits\n",
        "train_x = x[:int(total_sample*0.70)] # 70%\n",
        "train_y = y[:int(total_sample*0.70)]\n",
        "\n",
        "dev_x = x[int(total_sample*0.70):int(total_sample*0.85)] # 15%\n",
        "dev_y = y[int(total_sample*0.70):int(total_sample*0.85)]\n",
        "\n",
        "test_x = x[int(total_sample*0.85):] # 15%\n",
        "test_y = y[int(total_sample*0.85):]"
      ],
      "metadata": {
        "id": "0oAnhWZAslLP"
      },
      "execution_count": null,
      "outputs": []
    },
    {
      "cell_type": "markdown",
      "source": [
        "#### Multivariate Regression Model (From Scratch)\n"
      ],
      "metadata": {
        "id": "3p3b2E1UvpqM"
      }
    },
    {
      "cell_type": "code",
      "source": [
        "# Shape x for multivariate reg\n",
        "x = np.vstack((np.ones((x.shape[0], )), x.T)).T\n",
        "test_x = np.vstack((np.ones((test_x.shape[0], )), test_x.T)).T\n",
        "\n",
        "# Multivariate Linear Regression Function\n",
        "def linear_reg(x, y, lr, iteration):\n",
        "  m = y.size\n",
        "  theta = np.zeros((x.shape[1], 1))\n",
        "  cost_list = []\n",
        "\n",
        "  for i in range(iteration):\n",
        "    y_pred = np.dot(x, theta)\n",
        "    cost = compute_cost(y_pred, y)\n",
        "    theta = gradient(theta, x, y, y_pred, lr)\n",
        "    cost_list.append(cost)\n",
        "\n",
        "    if(i%(iteration/10) == 0):\n",
        "      print(\"Cost is: \", cost)\n",
        "\n",
        "  return theta, cost_list, y_pred\n",
        "\n",
        "  # Cost Function\n",
        "def compute_cost(y_pred, y_true):\n",
        "  m = len(y_true)\n",
        "  J = (1/(2*m))*np.sum(np.square(y_pred - y_true))\n",
        "  return J\n",
        "\n",
        "def gradient(theta, x, y_true, y_pred, lr):\n",
        "  m = len(y_true)\n",
        "  n_theta = (1/m)*np.dot(x.T, y_pred-y_true)\n",
        "  temp_theta = theta - (lr*n_theta)\n",
        "  return temp_theta"
      ],
      "metadata": {
        "id": "YH66kOViaXIj"
      },
      "execution_count": null,
      "outputs": []
    },
    {
      "cell_type": "code",
      "source": [
        "# Training Data\n",
        "iteration = 1000\n",
        "lr = .5\n",
        "theta, cost_list, y_pred = linear_reg(train_x, train_y, lr, iteration)"
      ],
      "metadata": {
        "id": "5Gb_TNPTl1Fs",
        "outputId": "2980bf0b-e6cd-4bc3-d50c-6bae6bb404b2",
        "colab": {
          "base_uri": "https://localhost:8080/"
        }
      },
      "execution_count": null,
      "outputs": [
        {
          "output_type": "stream",
          "name": "stdout",
          "text": [
            "Cost is:  14194.504854368934\n",
            "Cost is:  13751.726141582902\n",
            "Cost is:  13531.102034083733\n",
            "Cost is:  13408.402749580442\n",
            "Cost is:  13331.892666748174\n",
            "Cost is:  13279.362655635061\n",
            "Cost is:  13240.773017874793\n",
            "Cost is:  13211.210618402949\n",
            "Cost is:  13188.006888770382\n",
            "Cost is:  13169.539775941426\n"
          ]
        }
      ]
    },
    {
      "cell_type": "code",
      "source": [
        "# Dev Data\n",
        "iteration = 1000\n",
        "lr = .5\n",
        "theta, cost_list, y_pred = linear_reg(dev_x, dev_y, lr, iteration)"
      ],
      "metadata": {
        "id": "_WJkBmQ9o9by",
        "outputId": "9e672fb4-da86-4a0b-8045-ed1372efd6d7",
        "colab": {
          "base_uri": "https://localhost:8080/"
        }
      },
      "execution_count": null,
      "outputs": [
        {
          "output_type": "stream",
          "name": "stdout",
          "text": [
            "Cost is:  16693.295454545456\n",
            "Cost is:  14160.459172563867\n",
            "Cost is:  13153.726191164891\n",
            "Cost is:  12729.45268521753\n",
            "Cost is:  12533.094881995625\n",
            "Cost is:  12430.063052675354\n",
            "Cost is:  12368.247649324621\n",
            "Cost is:  12326.728139852608\n",
            "Cost is:  12296.567757848416\n",
            "Cost is:  12273.572457116883\n"
          ]
        }
      ]
    },
    {
      "cell_type": "code",
      "source": [
        "# Test Data\n",
        "iteration = 1000\n",
        "lr = .5\n",
        "theta, cost_list, y_pred = linear_reg(test_x, test_y, lr, iteration)"
      ],
      "metadata": {
        "id": "fyDk-y4CpDru",
        "outputId": "838c6d07-6c69-45b2-b2fb-2c72476ad1ac",
        "colab": {
          "base_uri": "https://localhost:8080/"
        }
      },
      "execution_count": null,
      "outputs": [
        {
          "output_type": "stream",
          "name": "stdout",
          "text": [
            "Cost is:  13994.044776119403\n",
            "Cost is:  2227.973160093177\n",
            "Cost is:  1845.3955191256596\n",
            "Cost is:  1637.780392465229\n",
            "Cost is:  1515.132266360214\n",
            "Cost is:  1436.541074481347\n",
            "Cost is:  1382.5663927937655\n",
            "Cost is:  1343.4354271032341\n",
            "Cost is:  1313.9029795193082\n",
            "Cost is:  1290.9524642564018\n"
          ]
        }
      ]
    },
    {
      "cell_type": "code",
      "source": [
        "# Accuracy Rating\n",
        "print(\"R2 Accuracy score is: \", round(sm.r2_score(test_y, y_pred), 2))\n",
        "\n",
        "print(\"Mean squared error:{}\" .format(mse(test_y, y_pred)))"
      ],
      "metadata": {
        "colab": {
          "base_uri": "https://localhost:8080/"
        },
        "id": "COG-Fjr2pKaJ",
        "outputId": "eea944ce-6162-486c-a530-d01e2dd99ecd"
      },
      "execution_count": null,
      "outputs": [
        {
          "output_type": "stream",
          "name": "stdout",
          "text": [
            "R2 Accuracy score is:  0.57\n",
            "Mean squared error:2545.786641683694\n"
          ]
        }
      ]
    },
    {
      "cell_type": "markdown",
      "source": [
        "#### Multivariate Regression Model (Using SciKit Learn)"
      ],
      "metadata": {
        "id": "v59vdxBKoP8t"
      }
    },
    {
      "cell_type": "code",
      "source": [
        "# # Create model\n",
        "# model = LinearRegression()\n",
        "\n",
        "# # Fit model\n",
        "# model.fit(train_x, train_y)\n",
        "\n",
        "# # Predict y value\n",
        "# y_pred = model.predict(test_x)\n",
        "# # print(y_pred)\n",
        "\n",
        "# # Prints the Accuracy Rating \n",
        "# print(\"R2 Accuracy score is: \", round(sm.r2_score(test_y, y_pred), 2))\n",
        "# print(mse(train_y, y_pred), mae(train_y, y_pred))\n",
        "\n",
        "# # Mean Squared Error\n",
        "# print(\"Mean squared error:{}\" .format(mse(test_y, y_pred)))"
      ],
      "metadata": {
        "id": "9Zn9qaYP1N5-"
      },
      "execution_count": null,
      "outputs": []
    }
  ]
}